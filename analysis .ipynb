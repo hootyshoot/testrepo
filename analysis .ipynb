{
    "cells": [
        {
            "metadata": {},
            "cell_type": "markdown",
            "source": "# Video games"
        },
        {
            "metadata": {},
            "cell_type": "code",
            "source": "\nimport types\nimport pandas as pd\nfrom botocore.client import Config\nimport ibm_boto3\n\ndef __iter__(self): return 0\n\n\n\nbody = client_40e5f726076b4feb93525b89b62c9b71.get_object(Bucket='ibmcoursera-donotdelete-pr-ns3qkdatr9rivj',Key='vgsales-12-4-2019.csv')['Body']\n# add missing __iter__ method, so pandas accepts body as file-like object\nif not hasattr(body, \"__iter__\"): body.__iter__ = types.MethodType( __iter__, body )\n\ndf_data_1 = pd.read_csv(body)\ndf_data_1.head()\n",
            "execution_count": 2,
            "outputs": [
                {
                    "output_type": "execute_result",
                    "execution_count": 2,
                    "data": {
                        "text/plain": "   Rank                           Name                      basename  \\\n0     1                     Wii Sports                    wii-sports   \n1     2              Super Mario Bros.              super-mario-bros   \n2     3                 Mario Kart Wii                mario-kart-wii   \n3     4  PlayerUnknown's Battlegrounds  playerunknowns-battlegrounds   \n4     5              Wii Sports Resort             wii-sports-resort   \n\n      Genre ESRB_Rating Platform         Publisher         Developer  \\\n0    Sports           E      Wii          Nintendo      Nintendo EAD   \n1  Platform         NaN      NES          Nintendo      Nintendo EAD   \n2    Racing           E      Wii          Nintendo      Nintendo EAD   \n3   Shooter         NaN       PC  PUBG Corporation  PUBG Corporation   \n4    Sports           E      Wii          Nintendo      Nintendo EAD   \n\n   VGChartz_Score  Critic_Score  ...  NA_Sales  PAL_Sales  JP_Sales  \\\n0             NaN           7.7  ...       NaN        NaN       NaN   \n1             NaN          10.0  ...       NaN        NaN       NaN   \n2             NaN           8.2  ...       NaN        NaN       NaN   \n3             NaN           NaN  ...       NaN        NaN       NaN   \n4             NaN           8.0  ...       NaN        NaN       NaN   \n\n   Other_Sales    Year  Last_Update  \\\n0          NaN  2006.0          NaN   \n1          NaN  1985.0          NaN   \n2          NaN  2008.0  11th Apr 18   \n3          NaN  2017.0  13th Nov 18   \n4          NaN  2009.0          NaN   \n\n                                                 url  status Vgchartzscore  \\\n0  http://www.vgchartz.com/game/2667/wii-sports/?...       1           NaN   \n1  http://www.vgchartz.com/game/6455/super-mario-...       1           NaN   \n2  http://www.vgchartz.com/game/6968/mario-kart-w...       1           8.7   \n3  http://www.vgchartz.com/game/215988/playerunkn...       1           NaN   \n4  http://www.vgchartz.com/game/24656/wii-sports-...       1           8.8   \n\n                                         img_url  \n0  /games/boxart/full_2258645AmericaFrontccc.jpg  \n1                   /games/boxart/8972270ccc.jpg  \n2  /games/boxart/full_8932480AmericaFrontccc.jpg  \n3  /games/boxart/full_8052843AmericaFrontccc.jpg  \n4  /games/boxart/full_7295041AmericaFrontccc.jpg  \n\n[5 rows x 23 columns]",
                        "text/html": "<div>\n<style scoped>\n    .dataframe tbody tr th:only-of-type {\n        vertical-align: middle;\n    }\n\n    .dataframe tbody tr th {\n        vertical-align: top;\n    }\n\n    .dataframe thead th {\n        text-align: right;\n    }\n</style>\n<table border=\"1\" class=\"dataframe\">\n  <thead>\n    <tr style=\"text-align: right;\">\n      <th></th>\n      <th>Rank</th>\n      <th>Name</th>\n      <th>basename</th>\n      <th>Genre</th>\n      <th>ESRB_Rating</th>\n      <th>Platform</th>\n      <th>Publisher</th>\n      <th>Developer</th>\n      <th>VGChartz_Score</th>\n      <th>Critic_Score</th>\n      <th>...</th>\n      <th>NA_Sales</th>\n      <th>PAL_Sales</th>\n      <th>JP_Sales</th>\n      <th>Other_Sales</th>\n      <th>Year</th>\n      <th>Last_Update</th>\n      <th>url</th>\n      <th>status</th>\n      <th>Vgchartzscore</th>\n      <th>img_url</th>\n    </tr>\n  </thead>\n  <tbody>\n    <tr>\n      <th>0</th>\n      <td>1</td>\n      <td>Wii Sports</td>\n      <td>wii-sports</td>\n      <td>Sports</td>\n      <td>E</td>\n      <td>Wii</td>\n      <td>Nintendo</td>\n      <td>Nintendo EAD</td>\n      <td>NaN</td>\n      <td>7.7</td>\n      <td>...</td>\n      <td>NaN</td>\n      <td>NaN</td>\n      <td>NaN</td>\n      <td>NaN</td>\n      <td>2006.0</td>\n      <td>NaN</td>\n      <td>http://www.vgchartz.com/game/2667/wii-sports/?...</td>\n      <td>1</td>\n      <td>NaN</td>\n      <td>/games/boxart/full_2258645AmericaFrontccc.jpg</td>\n    </tr>\n    <tr>\n      <th>1</th>\n      <td>2</td>\n      <td>Super Mario Bros.</td>\n      <td>super-mario-bros</td>\n      <td>Platform</td>\n      <td>NaN</td>\n      <td>NES</td>\n      <td>Nintendo</td>\n      <td>Nintendo EAD</td>\n      <td>NaN</td>\n      <td>10.0</td>\n      <td>...</td>\n      <td>NaN</td>\n      <td>NaN</td>\n      <td>NaN</td>\n      <td>NaN</td>\n      <td>1985.0</td>\n      <td>NaN</td>\n      <td>http://www.vgchartz.com/game/6455/super-mario-...</td>\n      <td>1</td>\n      <td>NaN</td>\n      <td>/games/boxart/8972270ccc.jpg</td>\n    </tr>\n    <tr>\n      <th>2</th>\n      <td>3</td>\n      <td>Mario Kart Wii</td>\n      <td>mario-kart-wii</td>\n      <td>Racing</td>\n      <td>E</td>\n      <td>Wii</td>\n      <td>Nintendo</td>\n      <td>Nintendo EAD</td>\n      <td>NaN</td>\n      <td>8.2</td>\n      <td>...</td>\n      <td>NaN</td>\n      <td>NaN</td>\n      <td>NaN</td>\n      <td>NaN</td>\n      <td>2008.0</td>\n      <td>11th Apr 18</td>\n      <td>http://www.vgchartz.com/game/6968/mario-kart-w...</td>\n      <td>1</td>\n      <td>8.7</td>\n      <td>/games/boxart/full_8932480AmericaFrontccc.jpg</td>\n    </tr>\n    <tr>\n      <th>3</th>\n      <td>4</td>\n      <td>PlayerUnknown's Battlegrounds</td>\n      <td>playerunknowns-battlegrounds</td>\n      <td>Shooter</td>\n      <td>NaN</td>\n      <td>PC</td>\n      <td>PUBG Corporation</td>\n      <td>PUBG Corporation</td>\n      <td>NaN</td>\n      <td>NaN</td>\n      <td>...</td>\n      <td>NaN</td>\n      <td>NaN</td>\n      <td>NaN</td>\n      <td>NaN</td>\n      <td>2017.0</td>\n      <td>13th Nov 18</td>\n      <td>http://www.vgchartz.com/game/215988/playerunkn...</td>\n      <td>1</td>\n      <td>NaN</td>\n      <td>/games/boxart/full_8052843AmericaFrontccc.jpg</td>\n    </tr>\n    <tr>\n      <th>4</th>\n      <td>5</td>\n      <td>Wii Sports Resort</td>\n      <td>wii-sports-resort</td>\n      <td>Sports</td>\n      <td>E</td>\n      <td>Wii</td>\n      <td>Nintendo</td>\n      <td>Nintendo EAD</td>\n      <td>NaN</td>\n      <td>8.0</td>\n      <td>...</td>\n      <td>NaN</td>\n      <td>NaN</td>\n      <td>NaN</td>\n      <td>NaN</td>\n      <td>2009.0</td>\n      <td>NaN</td>\n      <td>http://www.vgchartz.com/game/24656/wii-sports-...</td>\n      <td>1</td>\n      <td>8.8</td>\n      <td>/games/boxart/full_7295041AmericaFrontccc.jpg</td>\n    </tr>\n  </tbody>\n</table>\n<p>5 rows \u00d7 23 columns</p>\n</div>"
                    },
                    "metadata": {}
                }
            ]
        },
        {
            "metadata": {},
            "cell_type": "code",
            "source": "",
            "execution_count": null,
            "outputs": []
        }
    ],
    "metadata": {
        "kernelspec": {
            "name": "python3",
            "display_name": "Python 3.6",
            "language": "python"
        },
        "language_info": {
            "name": "python",
            "version": "3.6.9",
            "mimetype": "text/x-python",
            "codemirror_mode": {
                "name": "ipython",
                "version": 3
            },
            "pygments_lexer": "ipython3",
            "nbconvert_exporter": "python",
            "file_extension": ".py"
        }
    },
    "nbformat": 4,
    "nbformat_minor": 1
}